{
 "cells": [
  {
   "cell_type": "code",
   "execution_count": 1,
   "id": "d3b6af08-ca4f-4b73-912f-d8a5f759d15d",
   "metadata": {},
   "outputs": [],
   "source": [
    "# #EB Bill"
   ]
  },
  {
   "cell_type": "code",
   "execution_count": null,
   "id": "1c836b87-0b88-44fa-89b7-12d52e9a05cc",
   "metadata": {},
   "outputs": [],
   "source": [
    "# unit=int(input(\"Enter the Unit : \"))"
   ]
  },
  {
   "cell_type": "code",
   "execution_count": null,
   "id": "7c83d99e-c7c5-4302-9571-428bbf1d4662",
   "metadata": {},
   "outputs": [],
   "source": [
    "# if "
   ]
  },
  {
   "cell_type": "code",
   "execution_count": null,
   "id": "80585fc2-0ea7-4e62-bd6a-a8355e727833",
   "metadata": {},
   "outputs": [],
   "source": [
    "\n",
    "# Input the consumption units\n",
    "units = float(input(\"Enter the number of units consumed: \"))"
   ]
  },
  {
   "cell_type": "code",
   "execution_count": 1,
   "id": "0049e66c-ad4d-4825-8153-cca126ad11ab",
   "metadata": {},
   "outputs": [
    {
     "name": "stdin",
     "output_type": "stream",
     "text": [
      "Enter the number of units consumed:  1234\n"
     ]
    }
   ],
   "source": [
    "# Input the consumption units\n",
    "units = float(input(\"Enter the number of units consumed: \"))\n",
    "\n",
    "# Define the rate slabs\n",
    "rate_1 = 2.5\n",
    "rate_2 = 3.5\n",
    "rate_3 = 4.5\n",
    "rate_4 = 5.5\n",
    "rate_5 = 6.5"
   ]
  },
  {
   "cell_type": "code",
   "execution_count": null,
   "id": "c19be972-7e6e-45ef-a66f-dff558d03358",
   "metadata": {},
   "outputs": [],
   "source": [
    "# Initialize the total bill\n",
    "total_bill = 0"
   ]
  },
  {
   "cell_type": "code",
   "execution_count": 3,
   "id": "829c549d-b061-4732-929c-ec981e72cbc1",
   "metadata": {},
   "outputs": [],
   "source": [
    "# Calculate the bill based on the rate slabs\n",
    "if units <= 250:\n",
    "    total_bill = units * rate_1\n",
    "elif 250 < units <= 500:\n",
    "    total_bill = 250 * rate_1 + (units - 250) * rate_2\n",
    "elif 500 < units <= 750:\n",
    "    total_bill = 250 * rate_1 + 250 * rate_2 + (units - 500) * rate_3\n",
    "elif 750 < units <= 1000:\n",
    "    total_bill = 250 * rate_1 + 250 * rate_2 + 250 * rate_3 + (units - 750) * rate_4\n",
    "else:\n",
    "    total_bill = 250 * rate_1 + 250 * rate_2 + 250 * rate_3 + 250 * rate_4 + (units - 1000) * rate_5"
   ]
  },
  {
   "cell_type": "code",
   "execution_count": 5,
   "id": "af6a397c-8dfd-40bc-85e6-712da9d4733c",
   "metadata": {},
   "outputs": [
    {
     "name": "stdout",
     "output_type": "stream",
     "text": [
      "The total electricity bill is Rs. 5521.00\n"
     ]
    }
   ],
   "source": [
    "# Print the total bill\n",
    "print(f\"The total electricity bill is Rs. {total_bill:.2f}\")"
   ]
  },
  {
   "cell_type": "code",
   "execution_count": null,
   "id": "d74afcdc-694a-4e8a-b715-02f61bf75f77",
   "metadata": {},
   "outputs": [],
   "source": []
  },
  {
   "cell_type": "code",
   "execution_count": null,
   "id": "5376cac7-8043-4080-b227-dae2d98e5321",
   "metadata": {},
   "outputs": [],
   "source": []
  },
  {
   "cell_type": "code",
   "execution_count": null,
   "id": "a65da1d2-800b-4122-a62d-4ed729b26073",
   "metadata": {},
   "outputs": [],
   "source": []
  },
  {
   "cell_type": "code",
   "execution_count": null,
   "id": "635881ec-0164-4152-ae7e-71a253aaa2ea",
   "metadata": {},
   "outputs": [],
   "source": []
  },
  {
   "cell_type": "code",
   "execution_count": null,
   "id": "431e7c1b-fc0e-4356-9453-384d7643289f",
   "metadata": {},
   "outputs": [],
   "source": []
  },
  {
   "cell_type": "code",
   "execution_count": null,
   "id": "950b0c9f-4c28-4f4f-a640-925f30b7977b",
   "metadata": {},
   "outputs": [],
   "source": []
  },
  {
   "cell_type": "code",
   "execution_count": null,
   "id": "53c7ce17-8a61-40a3-bd04-3a8fb2097e48",
   "metadata": {},
   "outputs": [],
   "source": []
  },
  {
   "cell_type": "code",
   "execution_count": null,
   "id": "22c3181f-6823-4852-a2bb-22225682a938",
   "metadata": {},
   "outputs": [],
   "source": []
  }
 ],
 "metadata": {
  "kernelspec": {
   "display_name": "Python [conda env:base] *",
   "language": "python",
   "name": "conda-base-py"
  },
  "language_info": {
   "codemirror_mode": {
    "name": "ipython",
    "version": 3
   },
   "file_extension": ".py",
   "mimetype": "text/x-python",
   "name": "python",
   "nbconvert_exporter": "python",
   "pygments_lexer": "ipython3",
   "version": "3.12.4"
  }
 },
 "nbformat": 4,
 "nbformat_minor": 5
}
